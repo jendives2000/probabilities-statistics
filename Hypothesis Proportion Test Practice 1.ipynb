{
  "cells": [
    {
      "cell_type": "markdown",
      "metadata": {
        "colab_type": "text",
        "id": "view-in-github"
      },
      "source": [
        "<a href=\"https://colab.research.google.com/github/jendives2000/probabilities-statistics/blob/main/Hypothesis%20Proportion%20Test%20Practice%201.ipynb\" target=\"_parent\"><img src=\"https://colab.research.google.com/assets/colab-badge.svg\" alt=\"Open In Colab\"/></a>"
      ]
    },
    {
      "cell_type": "markdown",
      "metadata": {
        "id": "O888kKHTlSz8"
      },
      "source": [
        "You work as an analyst for a retail company that is interested in understanding customer satisfaction. The company claims that 80% of its customers are satisfied with their service. However, after a recent change in their return policy, you suspect that the satisfaction rate might have decreased. You decide to test this claim.\n",
        "\n",
        "\n",
        "---\n",
        "\n"
      ]
    },
    {
      "cell_type": "markdown",
      "metadata": {
        "id": "H_b8ldKGlY9O"
      },
      "source": [
        "**Given:**\n",
        "\n",
        "*   Population Proportion ($p_0$): 0.80 (80%)\n",
        "  *   Successes = S = $p_0$\n",
        "\n",
        "*   Sample Size (𝑛): 150 customers\n",
        "\n",
        "*   Sample Proportion ($\\hat{p}$): You will calculate it based on the provided sample data.\n",
        "\n",
        "*   Significance Level (𝛼): 0.05\n",
        "\n",
        "\n",
        "\n",
        "---\n",
        "\n"
      ]
    },
    {
      "cell_type": "markdown",
      "metadata": {
        "id": "2Z2cxDmUmD9t"
      },
      "source": [
        "**Hypotheses**:\n",
        "*   Null Hypothesis ($H_0$): 𝑝≥0.80\n",
        "\n",
        "  *   (At least 80% of customers are satisfied)\n",
        "\n",
        "*   Alternative Hypothesis ($H_a$): 𝑝<0.80\n",
        "  *   (The proportion of satisfied customers is less than 80%)\n",
        "\n",
        "\n",
        "---\n",
        "\n"
      ]
    },
    {
      "cell_type": "markdown",
      "metadata": {
        "id": "E3CG_s39nZYr"
      },
      "source": [
        "We were not given the sample proportion (p hat). Let's calculate it:\n",
        "\n",
        "$\\hat{p} = \\frac{S}{n}$"
      ]
    },
    {
      "cell_type": "code",
      "execution_count": 8,
      "metadata": {
        "colab": {
          "base_uri": "https://localhost:8080/"
        },
        "id": "JccKjI4CmZ5y",
        "outputId": "d77e3c22-97cb-4b66-be9f-4c464a658f4a"
      },
      "outputs": [
        {
          "name": "stdout",
          "output_type": "stream",
          "text": [
            "\n",
            "The sample proportion (p hat) is:\n",
            "\t0.533\n"
          ]
        }
      ],
      "source": [
        "successes = 80\n",
        "s_float = successes / 100\n",
        "\n",
        "n = 150\n",
        "p_hat = round(successes / n, 3)\n",
        "print(f'\\nThe sample proportion (p hat) is:\\n\\t{round(p_hat, 3)}')"
      ]
    },
    {
      "cell_type": "markdown",
      "metadata": {
        "id": "SNXTwRRUouGp"
      },
      "source": [
        "\n",
        "\n",
        "---\n",
        "\n",
        "\n",
        "Now we know that:\n",
        "\n",
        "$\\hat{p}$ = 0.533\n",
        "\n",
        "Let's find sigma sub p hat:\n",
        "\n",
        "$\\sigma_{\\hat{p}}$ = $\\sqrt{\\frac{\\hat{p}(1-\\hat{p})}{n}}$\n"
      ]
    },
    {
      "cell_type": "code",
      "execution_count": 6,
      "metadata": {
        "colab": {
          "base_uri": "https://localhost:8080/"
        },
        "id": "EBdM4BKslNvC",
        "outputId": "dee8834f-a8eb-4665-8a6e-cf803b561b02"
      },
      "outputs": [
        {
          "name": "stdout",
          "output_type": "stream",
          "text": [
            "\n",
            "The sample standard deviation (sigma sub p hat) is:\n",
            "\t0.041\n"
          ]
        }
      ],
      "source": [
        "import math\n",
        "\n",
        "sigmasub_phat = math.sqrt((p_hat * (1 - p_hat)) / n)\n",
        "print(f'\\nThe sample standard deviation (sigma sub p hat) is:\\n\\t{round(sigmasub_phat, 3)}')"
      ]
    },
    {
      "cell_type": "markdown",
      "metadata": {
        "id": "_X_TNwsxqlzl"
      },
      "source": [
        "\n",
        "\n",
        "---\n",
        "\n",
        "\n",
        "We can now calculate the z score and then get the p value from it."
      ]
    },
    {
      "cell_type": "code",
      "execution_count": 11,
      "metadata": {
        "colab": {
          "base_uri": "https://localhost:8080/"
        },
        "id": "WyrfS6N7qD05",
        "outputId": "6a12d1b4-a143-4912-8ef7-c46d134e3115"
      },
      "outputs": [
        {
          "name": "stdout",
          "output_type": "stream",
          "text": [
            "\n",
            "The z score is:\n",
            "\t-6.554\n",
            "\n",
            "With this z score, our p value is:\n",
            "\t0.0\n"
          ]
        }
      ],
      "source": [
        "from scipy.stats import norm\n",
        "\n",
        "z_score = (p_hat - s_float) / sigmasub_phat\n",
        "print(f'\\nThe z score is:\\n\\t{round(z_score, 3)}')\n",
        "p_value = norm.cdf(z_score)\n",
        "\n",
        "print(f'\\nWith this z score, our p value is:\\n\\t{round(p_value, 6)}')"
      ]
    },
    {
      "cell_type": "markdown",
      "metadata": {
        "id": "lgOhvHbJrqP0"
      },
      "source": [
        "\n",
        "\n",
        "---\n",
        "\n",
        "\n",
        "Now we have our p value, we need to check this:\n",
        "\n",
        "p < α\n",
        "\n",
        "And so we have:\n",
        "\n",
        "0.00 < 0.05\n",
        "\n",
        "This is **true**."
      ]
    },
    {
      "cell_type": "markdown",
      "metadata": {
        "id": "pJ6sDCxsr94F"
      },
      "source": [
        "# CONCLUSIONS: \n",
        "\n",
        "In conclusion, we can **reject the null hypothesis** in favor of the alternative hypothesis.\n",
        "\n",
        "This means we did not have enough evidence to say that the proportion of satisfied customer is equal to or more than 80%.\n",
        "It is **more likely that the proportion of satisfied customers is strictly less than 80%.**\n",
        "\n",
        "## Recommendations:  \n",
        "\n",
        "### BEFORE THE POLICIY CHANGE:\n",
        "*   Conduct A/B Testing on Policy Changes:  \n",
        "Before rolling out any further policy changes company-wide, conduct A/B testing on smaller customer groups to understand the impact more clearly.\n",
        "\n",
        "     - Action Plan:  \n",
        "     Create two groups with slightly different return policies or incentives and monitor their satisfaction levels, return rates, and overall sales to determine which approach yields better results.  \n",
        "     \n",
        "*   Explore Predictive Analytics:  \n",
        "Utilize predictive analytics models to anticipate customer behavior, such as predicting which customers are most likely to be dissatisfied or to return products.\n",
        "\n",
        "     - Action Plan:  \n",
        "     Work with the data science team to build models that help in early identification of at-risk customers and proactively address their concerns to improve retention.\n",
        "### AFTER:\n",
        "*   a. Segment of Clients who returned products Vs those who did not:  \n",
        "A more targeted approach will further refine our analysis. By comparing the proportion of satisfied clients who returned a product to the proportion of those who did not, we can further assess the impact of the change in the return policy.  \n",
        "I suggest that the marketing team starts a feedback campaign on 100 clients from the 1st segment and the data team conducts a sentiment analysis on it to helps us identify pain points. This helps the sales team to better prevent clients' loss. \n",
        "\n",
        "*   b. Analyze Customer Demographics:\n",
        "Segment the customer base by demographic factors such as age, gender, and location. This will help identify specific groups that are more likely to be dissatisfied, allowing for more personalized interventions. For instance, younger customers might value different aspects of the product or service compared to older customers.\n",
        "\n",
        "*   c. Monitor Satisfaction Over Time:\n",
        "Implement a longitudinal study to track changes in customer satisfaction over time. By continuously monitoring satisfaction levels before and after any policy changes, you can better assess the effectiveness of these changes and quickly identify trends or emerging issues.\n",
        "\n",
        "*   d. Enhance Customer Support:\n",
        "Strengthen the customer support system by offering more personalized assistance, especially to those who have returned products. Ensuring that customer complaints and concerns are addressed promptly and effectively could help increase satisfaction and reduce product returns.\n",
        "\n",
        "*   e. Improve Product Quality and Communication:\n",
        "Assess and improve the quality of products, especially those with higher return rates. Additionally, review and enhance communication strategies to ensure customers have clear and accurate expectations of the products they purchase.\n",
        "\n",
        "\n",
        "---\n",
        "\n"
      ]
    },
    {
      "cell_type": "code",
      "execution_count": null,
      "metadata": {
        "id": "YlhkQNmArJgC"
      },
      "outputs": [],
      "source": []
    }
  ],
  "metadata": {
    "colab": {
      "authorship_tag": "ABX9TyNlpBiEjaRoJn1zCaolPOis",
      "include_colab_link": true,
      "provenance": []
    },
    "kernelspec": {
      "display_name": "Python 3",
      "name": "python3"
    },
    "language_info": {
      "name": "python"
    }
  },
  "nbformat": 4,
  "nbformat_minor": 0
}
