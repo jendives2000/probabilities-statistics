{
  "nbformat": 4,
  "nbformat_minor": 0,
  "metadata": {
    "colab": {
      "provenance": [],
      "authorship_tag": "ABX9TyNlpBiEjaRoJn1zCaolPOis",
      "include_colab_link": true
    },
    "kernelspec": {
      "name": "python3",
      "display_name": "Python 3"
    },
    "language_info": {
      "name": "python"
    }
  },
  "cells": [
    {
      "cell_type": "markdown",
      "metadata": {
        "id": "view-in-github",
        "colab_type": "text"
      },
      "source": [
        "<a href=\"https://colab.research.google.com/github/jendives2000/probabilities-statistics/blob/main/Hypothesis%20Proportion%20Test%20Practice%201.ipynb\" target=\"_parent\"><img src=\"https://colab.research.google.com/assets/colab-badge.svg\" alt=\"Open In Colab\"/></a>"
      ]
    },
    {
      "cell_type": "markdown",
      "source": [
        "You work as an analyst for a retail company that is interested in understanding customer satisfaction. The company claims that 80% of its customers are satisfied with their service. However, after a recent change in their return policy, you suspect that the satisfaction rate might have decreased. You decide to test this claim.\n",
        "\n",
        "\n",
        "---\n",
        "\n"
      ],
      "metadata": {
        "id": "O888kKHTlSz8"
      }
    },
    {
      "cell_type": "markdown",
      "source": [
        "**Given:**\n",
        "\n",
        "*   Population Proportion ($p_0$): 0.80 (80%)\n",
        "  *   Successes = S = $p_0$\n",
        "\n",
        "*   Sample Size (𝑛): 150 customers\n",
        "\n",
        "*   Sample Proportion ($\\hat{p}$): You will calculate it based on the provided sample data.\n",
        "\n",
        "*   Significance Level (𝛼): 0.05\n",
        "\n",
        "\n",
        "\n",
        "---\n",
        "\n"
      ],
      "metadata": {
        "id": "H_b8ldKGlY9O"
      }
    },
    {
      "cell_type": "markdown",
      "source": [
        "**Hypotheses**:\n",
        "*   Null Hypothesis ($H_0$): 𝑝≥0.80\n",
        "\n",
        "  *   (At least 80% of customers are satisfied)\n",
        "\n",
        "*   Alternative Hypothesis ($H_a$): 𝑝<0.80\n",
        "  *   (The proportion of satisfied customers is less than 80%)\n",
        "\n",
        "\n",
        "---\n",
        "\n"
      ],
      "metadata": {
        "id": "2Z2cxDmUmD9t"
      }
    },
    {
      "cell_type": "markdown",
      "source": [
        "We were not given the sample proportion (p hat). Let's calculate it:\n",
        "\n",
        "$\\hat{p} = \\frac{S}{n}$"
      ],
      "metadata": {
        "id": "E3CG_s39nZYr"
      }
    },
    {
      "cell_type": "code",
      "source": [
        "successes = 80\n",
        "s_float = successes / 100\n",
        "\n",
        "n = 150\n",
        "p_hat = round(successes / n, 3)\n",
        "print(f'\\nThe sample proportion (p hat) is:\\n\\t{round(p_hat, 3)}')"
      ],
      "metadata": {
        "colab": {
          "base_uri": "https://localhost:8080/"
        },
        "id": "JccKjI4CmZ5y",
        "outputId": "d77e3c22-97cb-4b66-be9f-4c464a658f4a"
      },
      "execution_count": 8,
      "outputs": [
        {
          "output_type": "stream",
          "name": "stdout",
          "text": [
            "\n",
            "The sample proportion (p hat) is:\n",
            "\t0.533\n"
          ]
        }
      ]
    },
    {
      "cell_type": "markdown",
      "source": [
        "\n",
        "\n",
        "---\n",
        "\n",
        "\n",
        "Now we know that:\n",
        "\n",
        "$\\hat{p}$ = 0.533\n",
        "\n",
        "Let's find sigma sub p hat:\n",
        "\n",
        "$\\sigma_{\\hat{p}}$ = $\\sqrt{\\frac{\\hat{p}(1-\\hat{p})}{n}}$\n"
      ],
      "metadata": {
        "id": "SNXTwRRUouGp"
      }
    },
    {
      "cell_type": "code",
      "execution_count": 6,
      "metadata": {
        "colab": {
          "base_uri": "https://localhost:8080/"
        },
        "id": "EBdM4BKslNvC",
        "outputId": "dee8834f-a8eb-4665-8a6e-cf803b561b02"
      },
      "outputs": [
        {
          "output_type": "stream",
          "name": "stdout",
          "text": [
            "\n",
            "The sample standard deviation (sigma sub p hat) is:\n",
            "\t0.041\n"
          ]
        }
      ],
      "source": [
        "import math\n",
        "\n",
        "sigmasub_phat = math.sqrt((p_hat * (1 - p_hat)) / n)\n",
        "print(f'\\nThe sample standard deviation (sigma sub p hat) is:\\n\\t{round(sigmasub_phat, 3)}')"
      ]
    },
    {
      "cell_type": "markdown",
      "source": [
        "\n",
        "\n",
        "---\n",
        "\n",
        "\n",
        "We can now calculate the z score and then get the p value from it."
      ],
      "metadata": {
        "id": "_X_TNwsxqlzl"
      }
    },
    {
      "cell_type": "code",
      "source": [
        "from scipy.stats import norm\n",
        "\n",
        "z_score = (p_hat - s_float) / sigmasub_phat\n",
        "print(f'\\nThe z score is:\\n\\t{round(z_score, 3)}')\n",
        "p_value = norm.cdf(z_score)\n",
        "\n",
        "print(f'\\nWith this z score, our p value is:\\n\\t{round(p_value, 6)}')"
      ],
      "metadata": {
        "colab": {
          "base_uri": "https://localhost:8080/"
        },
        "id": "WyrfS6N7qD05",
        "outputId": "6a12d1b4-a143-4912-8ef7-c46d134e3115"
      },
      "execution_count": 11,
      "outputs": [
        {
          "output_type": "stream",
          "name": "stdout",
          "text": [
            "\n",
            "The z score is:\n",
            "\t-6.554\n",
            "\n",
            "With this z score, our p value is:\n",
            "\t0.0\n"
          ]
        }
      ]
    },
    {
      "cell_type": "markdown",
      "source": [
        "\n",
        "\n",
        "---\n",
        "\n",
        "\n",
        "Now we have our p value, we need to check this:\n",
        "\n",
        "p < α\n",
        "\n",
        "And so we have:\n",
        "\n",
        "0.00 < 0.05\n",
        "\n",
        "This is **true**."
      ],
      "metadata": {
        "id": "lgOhvHbJrqP0"
      }
    },
    {
      "cell_type": "markdown",
      "source": [
        "In conclusion, we can **reject the null hypothesis** in favor of the alternative hypothesis.\n",
        "\n",
        "This means we did not have enough evidence to say that the proportion of satisfied customer is equal to or more than 80%.\n",
        "It is **more likely that the proportion of satisfied customers is strictly less than 80%.**\n",
        "\n",
        "\n",
        "\n",
        "---\n",
        "\n"
      ],
      "metadata": {
        "id": "pJ6sDCxsr94F"
      }
    },
    {
      "cell_type": "code",
      "source": [],
      "metadata": {
        "id": "YlhkQNmArJgC"
      },
      "execution_count": null,
      "outputs": []
    }
  ]
}