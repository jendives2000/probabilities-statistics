{
  "cells": [
    {
      "cell_type": "markdown",
      "metadata": {
        "colab_type": "text",
        "id": "view-in-github"
      },
      "source": [
        "<a href=\"https://colab.research.google.com/github/jendives2000/probabilities-statistics/blob/main/Hypothesis%20Test%20Practice%203.ipynb\" target=\"_parent\"><img src=\"https://colab.research.google.com/assets/colab-badge.svg\" alt=\"Open In Colab\"/></a>"
      ]
    },
    {
      "cell_type": "markdown",
      "metadata": {
        "id": "73Kkh5plA0EX"
      },
      "source": [
        "You are a data analyst working for a company that manufactures batteries. The company claims that their batteries have an average lifespan of 500 hours. You suspect that the actual lifespan is lower, so you decide to test this claim.\n",
        "\n",
        "\n",
        "---\n",
        "\n"
      ]
    },
    {
      "cell_type": "markdown",
      "metadata": {
        "id": "5WHf7uY3A4o6"
      },
      "source": [
        "**Given:**\n",
        "\n",
        "Sample Size (𝑛): 35 batteries\n",
        "\n",
        "Significance Level (𝛼): 0.05"
      ]
    },
    {
      "cell_type": "markdown",
      "metadata": {
        "id": "-5MUvTb4BZzm"
      },
      "source": [
        "**Hypotheses**:\n",
        "*   Null Hypothesis ($𝐻_0$):\n",
        "𝜇\n",
        "≥\n",
        "500 hours (The average battery lifespan is at least 500 hours)\n",
        "*   Alternative Hypothesis ($𝐻_1$):\n",
        "𝜇\n",
        "<\n",
        "500 hours (The average battery lifespan is less than 500 hours)"
      ]
    },
    {
      "cell_type": "markdown",
      "metadata": {
        "id": "IYO12d6rB2-p"
      },
      "source": [
        "Therefore we need to go with a **left tail test**.\n",
        "\n",
        "𝜇 = 500 hours"
      ]
    },
    {
      "cell_type": "markdown",
      "metadata": {
        "id": "8xlD2YzGCPi1"
      },
      "source": [
        "\n",
        "\n",
        "---\n",
        "\n",
        "\n",
        "The data for each battery is in this data file:\n"
      ]
    },
    {
      "cell_type": "code",
      "execution_count": 1,
      "metadata": {
        "colab": {
          "base_uri": "https://localhost:8080/",
          "height": 687
        },
        "collapsed": true,
        "id": "4P_5RISLAvRq",
        "outputId": "38eafaeb-4ad5-47b4-e8cf-da685a466beb"
      },
      "outputs": [
        {
          "data": {
            "application/vnd.google.colaboratory.intrinsic+json": {
              "summary": "{\n  \"name\": \"df\",\n  \"rows\": 35,\n  \"fields\": [\n    {\n      \"column\": \"Battery Lifespan (hours)\",\n      \"properties\": {\n        \"dtype\": \"number\",\n        \"std\": 8.867657336335652,\n        \"min\": 475.4032987612022,\n        \"max\": 513.5227818450894,\n        \"num_unique_values\": 35,\n        \"samples\": [\n          491.1491771958368,\n          481.7181395110157,\n          477.3695984463727\n        ],\n        \"semantic_type\": \"\",\n        \"description\": \"\"\n      }\n    }\n  ]\n}",
              "type": "dataframe",
              "variable_name": "df"
            },
            "text/html": [
              "\n",
              "  <div id=\"df-b09c0c31-fc39-42c4-b923-16effbc29342\" class=\"colab-df-container\">\n",
              "    <div>\n",
              "<style scoped>\n",
              "    .dataframe tbody tr th:only-of-type {\n",
              "        vertical-align: middle;\n",
              "    }\n",
              "\n",
              "    .dataframe tbody tr th {\n",
              "        vertical-align: top;\n",
              "    }\n",
              "\n",
              "    .dataframe thead th {\n",
              "        text-align: right;\n",
              "    }\n",
              "</style>\n",
              "<table border=\"1\" class=\"dataframe\">\n",
              "  <thead>\n",
              "    <tr style=\"text-align: right;\">\n",
              "      <th></th>\n",
              "      <th>Battery Lifespan (hours)</th>\n",
              "    </tr>\n",
              "  </thead>\n",
              "  <tbody>\n",
              "    <tr>\n",
              "      <th>0</th>\n",
              "      <td>496.109226</td>\n",
              "    </tr>\n",
              "    <tr>\n",
              "      <th>1</th>\n",
              "      <td>483.490064</td>\n",
              "    </tr>\n",
              "    <tr>\n",
              "      <th>2</th>\n",
              "      <td>498.756980</td>\n",
              "    </tr>\n",
              "    <tr>\n",
              "      <th>3</th>\n",
              "      <td>488.993613</td>\n",
              "    </tr>\n",
              "    <tr>\n",
              "      <th>4</th>\n",
              "      <td>492.083063</td>\n",
              "    </tr>\n",
              "    <tr>\n",
              "      <th>5</th>\n",
              "      <td>488.982934</td>\n",
              "    </tr>\n",
              "    <tr>\n",
              "      <th>6</th>\n",
              "      <td>513.522782</td>\n",
              "    </tr>\n",
              "    <tr>\n",
              "      <th>7</th>\n",
              "      <td>494.865028</td>\n",
              "    </tr>\n",
              "    <tr>\n",
              "      <th>8</th>\n",
              "      <td>484.422891</td>\n",
              "    </tr>\n",
              "    <tr>\n",
              "      <th>9</th>\n",
              "      <td>503.225449</td>\n",
              "    </tr>\n",
              "    <tr>\n",
              "      <th>10</th>\n",
              "      <td>482.791564</td>\n",
              "    </tr>\n",
              "    <tr>\n",
              "      <th>11</th>\n",
              "      <td>497.088636</td>\n",
              "    </tr>\n",
              "    <tr>\n",
              "      <th>12</th>\n",
              "      <td>475.403299</td>\n",
              "    </tr>\n",
              "    <tr>\n",
              "      <th>13</th>\n",
              "      <td>481.718140</td>\n",
              "    </tr>\n",
              "    <tr>\n",
              "      <th>14</th>\n",
              "      <td>496.968612</td>\n",
              "    </tr>\n",
              "    <tr>\n",
              "      <th>15</th>\n",
              "      <td>502.384666</td>\n",
              "    </tr>\n",
              "    <tr>\n",
              "      <th>16</th>\n",
              "      <td>496.713683</td>\n",
              "    </tr>\n",
              "    <tr>\n",
              "      <th>17</th>\n",
              "      <td>493.843517</td>\n",
              "    </tr>\n",
              "    <tr>\n",
              "      <th>18</th>\n",
              "      <td>491.988963</td>\n",
              "    </tr>\n",
              "    <tr>\n",
              "      <th>19</th>\n",
              "      <td>480.214780</td>\n",
              "    </tr>\n",
              "    <tr>\n",
              "      <th>20</th>\n",
              "      <td>487.801558</td>\n",
              "    </tr>\n",
              "    <tr>\n",
              "      <th>21</th>\n",
              "      <td>490.393612</td>\n",
              "    </tr>\n",
              "    <tr>\n",
              "      <th>22</th>\n",
              "      <td>505.571222</td>\n",
              "    </tr>\n",
              "    <tr>\n",
              "      <th>23</th>\n",
              "      <td>498.436183</td>\n",
              "    </tr>\n",
              "    <tr>\n",
              "      <th>24</th>\n",
              "      <td>477.369598</td>\n",
              "    </tr>\n",
              "    <tr>\n",
              "      <th>25</th>\n",
              "      <td>498.240840</td>\n",
              "    </tr>\n",
              "    <tr>\n",
              "      <th>26</th>\n",
              "      <td>491.149177</td>\n",
              "    </tr>\n",
              "    <tr>\n",
              "      <th>27</th>\n",
              "      <td>488.230780</td>\n",
              "    </tr>\n",
              "    <tr>\n",
              "      <th>28</th>\n",
              "      <td>501.116763</td>\n",
              "    </tr>\n",
              "    <tr>\n",
              "      <th>29</th>\n",
              "      <td>505.309995</td>\n",
              "    </tr>\n",
              "    <tr>\n",
              "      <th>30</th>\n",
              "      <td>504.312801</td>\n",
              "    </tr>\n",
              "    <tr>\n",
              "      <th>31</th>\n",
              "      <td>486.607825</td>\n",
              "    </tr>\n",
              "    <tr>\n",
              "      <th>32</th>\n",
              "      <td>491.907876</td>\n",
              "    </tr>\n",
              "    <tr>\n",
              "      <th>33</th>\n",
              "      <td>498.312634</td>\n",
              "    </tr>\n",
              "    <tr>\n",
              "      <th>34</th>\n",
              "      <td>504.755451</td>\n",
              "    </tr>\n",
              "  </tbody>\n",
              "</table>\n",
              "</div>\n",
              "    <div class=\"colab-df-buttons\">\n",
              "\n",
              "  <div class=\"colab-df-container\">\n",
              "    <button class=\"colab-df-convert\" onclick=\"convertToInteractive('df-b09c0c31-fc39-42c4-b923-16effbc29342')\"\n",
              "            title=\"Convert this dataframe to an interactive table.\"\n",
              "            style=\"display:none;\">\n",
              "\n",
              "  <svg xmlns=\"http://www.w3.org/2000/svg\" height=\"24px\" viewBox=\"0 -960 960 960\">\n",
              "    <path d=\"M120-120v-720h720v720H120Zm60-500h600v-160H180v160Zm220 220h160v-160H400v160Zm0 220h160v-160H400v160ZM180-400h160v-160H180v160Zm440 0h160v-160H620v160ZM180-180h160v-160H180v160Zm440 0h160v-160H620v160Z\"/>\n",
              "  </svg>\n",
              "    </button>\n",
              "\n",
              "  <style>\n",
              "    .colab-df-container {\n",
              "      display:flex;\n",
              "      gap: 12px;\n",
              "    }\n",
              "\n",
              "    .colab-df-convert {\n",
              "      background-color: #E8F0FE;\n",
              "      border: none;\n",
              "      border-radius: 50%;\n",
              "      cursor: pointer;\n",
              "      display: none;\n",
              "      fill: #1967D2;\n",
              "      height: 32px;\n",
              "      padding: 0 0 0 0;\n",
              "      width: 32px;\n",
              "    }\n",
              "\n",
              "    .colab-df-convert:hover {\n",
              "      background-color: #E2EBFA;\n",
              "      box-shadow: 0px 1px 2px rgba(60, 64, 67, 0.3), 0px 1px 3px 1px rgba(60, 64, 67, 0.15);\n",
              "      fill: #174EA6;\n",
              "    }\n",
              "\n",
              "    .colab-df-buttons div {\n",
              "      margin-bottom: 4px;\n",
              "    }\n",
              "\n",
              "    [theme=dark] .colab-df-convert {\n",
              "      background-color: #3B4455;\n",
              "      fill: #D2E3FC;\n",
              "    }\n",
              "\n",
              "    [theme=dark] .colab-df-convert:hover {\n",
              "      background-color: #434B5C;\n",
              "      box-shadow: 0px 1px 3px 1px rgba(0, 0, 0, 0.15);\n",
              "      filter: drop-shadow(0px 1px 2px rgba(0, 0, 0, 0.3));\n",
              "      fill: #FFFFFF;\n",
              "    }\n",
              "  </style>\n",
              "\n",
              "    <script>\n",
              "      const buttonEl =\n",
              "        document.querySelector('#df-b09c0c31-fc39-42c4-b923-16effbc29342 button.colab-df-convert');\n",
              "      buttonEl.style.display =\n",
              "        google.colab.kernel.accessAllowed ? 'block' : 'none';\n",
              "\n",
              "      async function convertToInteractive(key) {\n",
              "        const element = document.querySelector('#df-b09c0c31-fc39-42c4-b923-16effbc29342');\n",
              "        const dataTable =\n",
              "          await google.colab.kernel.invokeFunction('convertToInteractive',\n",
              "                                                    [key], {});\n",
              "        if (!dataTable) return;\n",
              "\n",
              "        const docLinkHtml = 'Like what you see? Visit the ' +\n",
              "          '<a target=\"_blank\" href=https://colab.research.google.com/notebooks/data_table.ipynb>data table notebook</a>'\n",
              "          + ' to learn more about interactive tables.';\n",
              "        element.innerHTML = '';\n",
              "        dataTable['output_type'] = 'display_data';\n",
              "        await google.colab.output.renderOutput(dataTable, element);\n",
              "        const docLink = document.createElement('div');\n",
              "        docLink.innerHTML = docLinkHtml;\n",
              "        element.appendChild(docLink);\n",
              "      }\n",
              "    </script>\n",
              "  </div>\n",
              "\n",
              "\n",
              "<div id=\"df-b44c279c-0926-4826-a203-44ccdda031a5\">\n",
              "  <button class=\"colab-df-quickchart\" onclick=\"quickchart('df-b44c279c-0926-4826-a203-44ccdda031a5')\"\n",
              "            title=\"Suggest charts\"\n",
              "            style=\"display:none;\">\n",
              "\n",
              "<svg xmlns=\"http://www.w3.org/2000/svg\" height=\"24px\"viewBox=\"0 0 24 24\"\n",
              "     width=\"24px\">\n",
              "    <g>\n",
              "        <path d=\"M19 3H5c-1.1 0-2 .9-2 2v14c0 1.1.9 2 2 2h14c1.1 0 2-.9 2-2V5c0-1.1-.9-2-2-2zM9 17H7v-7h2v7zm4 0h-2V7h2v10zm4 0h-2v-4h2v4z\"/>\n",
              "    </g>\n",
              "</svg>\n",
              "  </button>\n",
              "\n",
              "<style>\n",
              "  .colab-df-quickchart {\n",
              "      --bg-color: #E8F0FE;\n",
              "      --fill-color: #1967D2;\n",
              "      --hover-bg-color: #E2EBFA;\n",
              "      --hover-fill-color: #174EA6;\n",
              "      --disabled-fill-color: #AAA;\n",
              "      --disabled-bg-color: #DDD;\n",
              "  }\n",
              "\n",
              "  [theme=dark] .colab-df-quickchart {\n",
              "      --bg-color: #3B4455;\n",
              "      --fill-color: #D2E3FC;\n",
              "      --hover-bg-color: #434B5C;\n",
              "      --hover-fill-color: #FFFFFF;\n",
              "      --disabled-bg-color: #3B4455;\n",
              "      --disabled-fill-color: #666;\n",
              "  }\n",
              "\n",
              "  .colab-df-quickchart {\n",
              "    background-color: var(--bg-color);\n",
              "    border: none;\n",
              "    border-radius: 50%;\n",
              "    cursor: pointer;\n",
              "    display: none;\n",
              "    fill: var(--fill-color);\n",
              "    height: 32px;\n",
              "    padding: 0;\n",
              "    width: 32px;\n",
              "  }\n",
              "\n",
              "  .colab-df-quickchart:hover {\n",
              "    background-color: var(--hover-bg-color);\n",
              "    box-shadow: 0 1px 2px rgba(60, 64, 67, 0.3), 0 1px 3px 1px rgba(60, 64, 67, 0.15);\n",
              "    fill: var(--button-hover-fill-color);\n",
              "  }\n",
              "\n",
              "  .colab-df-quickchart-complete:disabled,\n",
              "  .colab-df-quickchart-complete:disabled:hover {\n",
              "    background-color: var(--disabled-bg-color);\n",
              "    fill: var(--disabled-fill-color);\n",
              "    box-shadow: none;\n",
              "  }\n",
              "\n",
              "  .colab-df-spinner {\n",
              "    border: 2px solid var(--fill-color);\n",
              "    border-color: transparent;\n",
              "    border-bottom-color: var(--fill-color);\n",
              "    animation:\n",
              "      spin 1s steps(1) infinite;\n",
              "  }\n",
              "\n",
              "  @keyframes spin {\n",
              "    0% {\n",
              "      border-color: transparent;\n",
              "      border-bottom-color: var(--fill-color);\n",
              "      border-left-color: var(--fill-color);\n",
              "    }\n",
              "    20% {\n",
              "      border-color: transparent;\n",
              "      border-left-color: var(--fill-color);\n",
              "      border-top-color: var(--fill-color);\n",
              "    }\n",
              "    30% {\n",
              "      border-color: transparent;\n",
              "      border-left-color: var(--fill-color);\n",
              "      border-top-color: var(--fill-color);\n",
              "      border-right-color: var(--fill-color);\n",
              "    }\n",
              "    40% {\n",
              "      border-color: transparent;\n",
              "      border-right-color: var(--fill-color);\n",
              "      border-top-color: var(--fill-color);\n",
              "    }\n",
              "    60% {\n",
              "      border-color: transparent;\n",
              "      border-right-color: var(--fill-color);\n",
              "    }\n",
              "    80% {\n",
              "      border-color: transparent;\n",
              "      border-right-color: var(--fill-color);\n",
              "      border-bottom-color: var(--fill-color);\n",
              "    }\n",
              "    90% {\n",
              "      border-color: transparent;\n",
              "      border-bottom-color: var(--fill-color);\n",
              "    }\n",
              "  }\n",
              "</style>\n",
              "\n",
              "  <script>\n",
              "    async function quickchart(key) {\n",
              "      const quickchartButtonEl =\n",
              "        document.querySelector('#' + key + ' button');\n",
              "      quickchartButtonEl.disabled = true;  // To prevent multiple clicks.\n",
              "      quickchartButtonEl.classList.add('colab-df-spinner');\n",
              "      try {\n",
              "        const charts = await google.colab.kernel.invokeFunction(\n",
              "            'suggestCharts', [key], {});\n",
              "      } catch (error) {\n",
              "        console.error('Error during call to suggestCharts:', error);\n",
              "      }\n",
              "      quickchartButtonEl.classList.remove('colab-df-spinner');\n",
              "      quickchartButtonEl.classList.add('colab-df-quickchart-complete');\n",
              "    }\n",
              "    (() => {\n",
              "      let quickchartButtonEl =\n",
              "        document.querySelector('#df-b44c279c-0926-4826-a203-44ccdda031a5 button');\n",
              "      quickchartButtonEl.style.display =\n",
              "        google.colab.kernel.accessAllowed ? 'block' : 'none';\n",
              "    })();\n",
              "  </script>\n",
              "</div>\n",
              "\n",
              "  <div id=\"id_026c6465-8874-4282-9fed-a368544619c0\">\n",
              "    <style>\n",
              "      .colab-df-generate {\n",
              "        background-color: #E8F0FE;\n",
              "        border: none;\n",
              "        border-radius: 50%;\n",
              "        cursor: pointer;\n",
              "        display: none;\n",
              "        fill: #1967D2;\n",
              "        height: 32px;\n",
              "        padding: 0 0 0 0;\n",
              "        width: 32px;\n",
              "      }\n",
              "\n",
              "      .colab-df-generate:hover {\n",
              "        background-color: #E2EBFA;\n",
              "        box-shadow: 0px 1px 2px rgba(60, 64, 67, 0.3), 0px 1px 3px 1px rgba(60, 64, 67, 0.15);\n",
              "        fill: #174EA6;\n",
              "      }\n",
              "\n",
              "      [theme=dark] .colab-df-generate {\n",
              "        background-color: #3B4455;\n",
              "        fill: #D2E3FC;\n",
              "      }\n",
              "\n",
              "      [theme=dark] .colab-df-generate:hover {\n",
              "        background-color: #434B5C;\n",
              "        box-shadow: 0px 1px 3px 1px rgba(0, 0, 0, 0.15);\n",
              "        filter: drop-shadow(0px 1px 2px rgba(0, 0, 0, 0.3));\n",
              "        fill: #FFFFFF;\n",
              "      }\n",
              "    </style>\n",
              "    <button class=\"colab-df-generate\" onclick=\"generateWithVariable('df')\"\n",
              "            title=\"Generate code using this dataframe.\"\n",
              "            style=\"display:none;\">\n",
              "\n",
              "  <svg xmlns=\"http://www.w3.org/2000/svg\" height=\"24px\"viewBox=\"0 0 24 24\"\n",
              "       width=\"24px\">\n",
              "    <path d=\"M7,19H8.4L18.45,9,17,7.55,7,17.6ZM5,21V16.75L18.45,3.32a2,2,0,0,1,2.83,0l1.4,1.43a1.91,1.91,0,0,1,.58,1.4,1.91,1.91,0,0,1-.58,1.4L9.25,21ZM18.45,9,17,7.55Zm-12,3A5.31,5.31,0,0,0,4.9,8.1,5.31,5.31,0,0,0,1,6.5,5.31,5.31,0,0,0,4.9,4.9,5.31,5.31,0,0,0,6.5,1,5.31,5.31,0,0,0,8.1,4.9,5.31,5.31,0,0,0,12,6.5,5.46,5.46,0,0,0,6.5,12Z\"/>\n",
              "  </svg>\n",
              "    </button>\n",
              "    <script>\n",
              "      (() => {\n",
              "      const buttonEl =\n",
              "        document.querySelector('#id_026c6465-8874-4282-9fed-a368544619c0 button.colab-df-generate');\n",
              "      buttonEl.style.display =\n",
              "        google.colab.kernel.accessAllowed ? 'block' : 'none';\n",
              "\n",
              "      buttonEl.onclick = () => {\n",
              "        google.colab.notebook.generateWithVariable('df');\n",
              "      }\n",
              "      })();\n",
              "    </script>\n",
              "  </div>\n",
              "\n",
              "    </div>\n",
              "  </div>\n"
            ],
            "text/plain": [
              "    Battery Lifespan (hours)\n",
              "0                 496.109226\n",
              "1                 483.490064\n",
              "2                 498.756980\n",
              "3                 488.993613\n",
              "4                 492.083063\n",
              "5                 488.982934\n",
              "6                 513.522782\n",
              "7                 494.865028\n",
              "8                 484.422891\n",
              "9                 503.225449\n",
              "10                482.791564\n",
              "11                497.088636\n",
              "12                475.403299\n",
              "13                481.718140\n",
              "14                496.968612\n",
              "15                502.384666\n",
              "16                496.713683\n",
              "17                493.843517\n",
              "18                491.988963\n",
              "19                480.214780\n",
              "20                487.801558\n",
              "21                490.393612\n",
              "22                505.571222\n",
              "23                498.436183\n",
              "24                477.369598\n",
              "25                498.240840\n",
              "26                491.149177\n",
              "27                488.230780\n",
              "28                501.116763\n",
              "29                505.309995\n",
              "30                504.312801\n",
              "31                486.607825\n",
              "32                491.907876\n",
              "33                498.312634\n",
              "34                504.755451"
            ]
          },
          "execution_count": 1,
          "metadata": {},
          "output_type": "execute_result"
        }
      ],
      "source": [
        "import pandas as pd\n",
        "df = pd.read_csv('/content/battery_lifespan_large_data.csv')\n",
        "df"
      ]
    },
    {
      "cell_type": "markdown",
      "metadata": {
        "id": "BpQEVIJhCiqo"
      },
      "source": [
        "\n",
        "\n",
        "---\n",
        "\n",
        "\n",
        "We were not given the population standard deviation (sigma) but with the data from the dataframe here above we can calculate the **sample standard deviation** from the sample battery life mean."
      ]
    },
    {
      "cell_type": "code",
      "execution_count": 4,
      "metadata": {
        "colab": {
          "base_uri": "https://localhost:8080/"
        },
        "id": "L5sEZswDA1-W",
        "outputId": "bfd7bfeb-578e-4bd9-a33d-80b5157a953d"
      },
      "outputs": [
        {
          "name": "stdout",
          "output_type": "stream",
          "text": [
            "The sample mean (x̄) of our 35 batteries is:\n",
            "\t493.517 hours\n"
          ]
        }
      ],
      "source": [
        "# getting all the battery life values into a variable:\n",
        "\n",
        "batterylife_values = df['Battery Lifespan (hours)'].values\n",
        "blv = batterylife_values\n",
        "\n",
        "# calculating the mean of all blv values:\n",
        "mean_blv = blv.mean()\n",
        "print(f'The sample mean (x̄) of our 35 batteries is:\\n\\t{round(mean_blv, 3)} hours')"
      ]
    },
    {
      "cell_type": "markdown",
      "metadata": {
        "id": "mecRhZkCDcLV"
      },
      "source": [
        "With the sample mean (x̄) now known, let's get the sample standard deviation (sigma bar):\n",
        "\n",
        "$\\bar{\\sigma} = \\sqrt{\\frac{\\sum_{i=1}^{n}(x_i - \\bar{x})^2}{n-1}}$\n"
      ]
    },
    {
      "cell_type": "code",
      "execution_count": 14,
      "metadata": {
        "colab": {
          "base_uri": "https://localhost:8080/"
        },
        "id": "XeqirMBoDN57",
        "outputId": "f2610599-f202-4e99-dd18-9733bceb2f9a"
      },
      "outputs": [
        {
          "name": "stdout",
          "output_type": "stream",
          "text": [
            "\n",
            "The Sample standard deviation (sigma bar) of the dataset is:\n",
            "\t8.683\n"
          ]
        }
      ],
      "source": [
        "import math\n",
        "\n",
        "#calculating population standard deviation of the dataset\n",
        "deviation_sum = 0\n",
        "for i in range(len(blv)):\n",
        "   deviation_sum+=(blv[i]- mean_blv)**2\n",
        "   psd = math.sqrt((deviation_sum)/len(blv))\n",
        "\n",
        "#calculating sample standard deviation of the dataset\n",
        "ssd = math.sqrt((deviation_sum)/len(blv) - 1)\n",
        "\n",
        "print(f\"\\nThe Sample standard deviation (sigma bar) of the dataset is:\\n\\t{round(ssd, 3)}\")"
      ]
    },
    {
      "cell_type": "markdown",
      "metadata": {
        "id": "0NwPG6VtGgl_"
      },
      "source": [
        "So $\\bar{\\sigma}$ = 8.683\n",
        "\n",
        "$\\bar{\\sigma}$ = S"
      ]
    },
    {
      "cell_type": "markdown",
      "metadata": {
        "id": "jVK0VJ5-GtMk"
      },
      "source": [
        "\n",
        "\n",
        "---\n",
        "\n",
        "\n",
        "Now that we have S we can calculate:\n",
        "*   $S_{\\bar{x}}$ = $\\frac{S}{\\sqrt{n}}$\n",
        "*   t score = $\\frac{\\bar{x} - \\mu}{S_{\\bar{x}}}$"
      ]
    },
    {
      "cell_type": "code",
      "execution_count": 8,
      "metadata": {
        "colab": {
          "base_uri": "https://localhost:8080/"
        },
        "id": "T6qzJMgoGOjc",
        "outputId": "92e53586-5413-4186-fa13-d21a04ee0597"
      },
      "outputs": [
        {
          "name": "stdout",
          "output_type": "stream",
          "text": [
            "\n",
            "S sub x bar =\n",
            "\t1.468\n"
          ]
        }
      ],
      "source": [
        "# calculating S sub x bar:\n",
        "ssubxbar = ssd / math.sqrt(len(blv))\n",
        "print(f'\\nS sub x bar =\\n\\t{round(ssubxbar, 3)}')\n"
      ]
    },
    {
      "cell_type": "markdown",
      "metadata": {
        "id": "JX-lFCt6G9tJ"
      },
      "source": [
        "So $S_{\\bar{x}}$ = 1.468"
      ]
    },
    {
      "cell_type": "markdown",
      "metadata": {
        "id": "8HExpFy4HD6Y"
      },
      "source": [
        "With that we can go on and calculate the t score:"
      ]
    },
    {
      "cell_type": "code",
      "execution_count": 9,
      "metadata": {
        "colab": {
          "base_uri": "https://localhost:8080/"
        },
        "id": "F95zxuAxG5YK",
        "outputId": "820b5595-a14e-47c6-8c5b-bc70b7961c34"
      },
      "outputs": [
        {
          "name": "stdout",
          "output_type": "stream",
          "text": [
            "\n",
            "The t score =\n",
            "\t-4.418\n"
          ]
        }
      ],
      "source": [
        "# calculating the t score:\n",
        "\n",
        "mu = 500\n",
        "\n",
        "tscore = (mean_blv - mu) / ssubxbar\n",
        "print(f'\\nThe t score =\\n\\t{round(tscore, 3)}')\n"
      ]
    },
    {
      "cell_type": "markdown",
      "metadata": {
        "id": "RuHq6DXhIEKC"
      },
      "source": [
        "So our t value = -4.418\n",
        "\n",
        "\n",
        "\n",
        "---\n",
        "\n",
        "\n",
        "\n",
        "We now can use scipy to reference the t score table and get the critical value attached to our significance level, sample size n and degree of freedom."
      ]
    },
    {
      "cell_type": "code",
      "execution_count": 10,
      "metadata": {
        "colab": {
          "base_uri": "https://localhost:8080/"
        },
        "id": "rSfr0uXeH4Za",
        "outputId": "99800456-ab84-4052-8b84-e2f3cb4a7d63"
      },
      "outputs": [
        {
          "name": "stdout",
          "output_type": "stream",
          "text": [
            "The critical_value is:\n",
            "\t-1.691\n"
          ]
        }
      ],
      "source": [
        "# getting the critical value from the t score table:\n",
        "\n",
        "from scipy.stats import t\n",
        "\n",
        "alpha = 0.05  # Significance level\n",
        "n = len(blv)  # Sample size\n",
        "d_f = n - 1  # Degrees of freedom\n",
        "\n",
        "# For a left-tailed test:\n",
        "critical_value = t.ppf(alpha, d_f)\n",
        "\n",
        "print(f'The critical_value is:\\n\\t{round(critical_value, 3)}')"
      ]
    },
    {
      "cell_type": "markdown",
      "metadata": {
        "id": "s5sZPSyPPih1"
      },
      "source": [
        "\n",
        "\n",
        "---\n",
        "\n",
        "\n",
        "With both the t value and the critical value we can make a comparison and get a conclusion:"
      ]
    },
    {
      "cell_type": "markdown",
      "metadata": {
        "id": "usvaXdqeQaD8"
      },
      "source": [
        "# CONCLUSIONS:  \n",
        "\n",
        "Given the t value of -4.418 and a critical value of -1.691, and also the fact that this is a **left-tailed test**, **the directionality** tells us that the t value falls further into the left area of the critical value, placing it well **into the rejection region**.\n",
        "Hence, we indeed can say with confidence that the null hypothesis **is rejected**.\n",
        "\n",
        "Based on the data of 35 batteries, we have enough evidence to prove that the **average lifespan of a battery is not equal to or greater than 500 hours.**\n",
        "\n",
        "## Recommendations:  \n",
        "\n",
        "*   a. Production Costs Vs Batteries Lifespan:  \n",
        "An analysis of the correlation between the production costs and the batteries lifespan could indicate if lower production costs strongly diminishes batteries' lifespan. Consequently this could help the production team to refine their production components and process. \n",
        "\n",
        "*   b. Competitors' Batteries:  \n",
        "Assessing the lifespan of competitors' batteries, if not already done of course, helps the business strategy team to refine our market positioning and product line. \n",
        "\n",
        "*   c. Integrate Other Data Sources:  \n",
        "Combine this analysis with other relevant data sources, such as pricing, promotions, or product availability, to understand the broader context. This multi-variable analysis can help pinpoint additional factors influencing sales and optimize the overall strategy accordingly.\n",
        "\n",
        "---\n",
        "\n"
      ]
    },
    {
      "cell_type": "code",
      "execution_count": null,
      "metadata": {
        "id": "5wdTUQ80PvrM"
      },
      "outputs": [],
      "source": []
    }
  ],
  "metadata": {
    "colab": {
      "authorship_tag": "ABX9TyPmZJxprzJBpOyQgDnbEpRd",
      "include_colab_link": true,
      "provenance": []
    },
    "kernelspec": {
      "display_name": "Python 3",
      "name": "python3"
    },
    "language_info": {
      "name": "python"
    }
  },
  "nbformat": 4,
  "nbformat_minor": 0
}
